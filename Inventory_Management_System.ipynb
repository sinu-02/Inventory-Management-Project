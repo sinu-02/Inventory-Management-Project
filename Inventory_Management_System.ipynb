{
  "nbformat": 4,
  "nbformat_minor": 0,
  "metadata": {
    "colab": {
      "name": "Inventory Management System.ipynb",
      "provenance": [],
      "collapsed_sections": []
    },
    "kernelspec": {
      "name": "python3",
      "display_name": "Python 3"
    },
    "language_info": {
      "name": "python"
    }
  },
  "cells": [
    {
      "cell_type": "code",
      "metadata": {
        "id": "sypZIThRqddY"
      },
      "source": [
        "import time\n",
        "import json\n",
        "\n",
        "sum=0\n",
        "ans=0\n",
        "original=0\n",
        "store={1001:{\"pname\":\"Coke\",\"mrp\":35,\"mdate\":\"08-07-2021\",\"edate\":\"08-12-2021\",\"discountinper\":0,\"qty\":100},\n",
        "       1002:{\"pname\":\"Bathing bar\",\"mrp\":50,\"mdate\":\"08-06-2021\",\"edate\":\"08-12-2022\",\"discountinper\":10,\"qty\":25},\n",
        "       1003:{\"pname\":\"Wheel bar\",\"mrp\":60,\"mdate\":\"15-08-2021\",\"edate\":\"10-12-2022\",\"discountinper\":5,\"qty\":38},\n",
        "       1004:{\"pname\":\"Vim bar\",\"mrp\":45,\"mdate\":\"07-04-2021\",\"edate\":\"18-12-2021\",\"discountinper\":15,\"qty\":45},\n",
        "       1005:{\"pname\":\"Cheese\",\"mrp\":25,\"mdate\":\"11-07-2021\",\"edate\":\"30-12-2021\",\"discountinper\":0,\"qty\":50}}\n",
        "\n",
        "\n",
        "qxt=json.dumps(store)\n",
        "fb=open(\"Records.json\",'w')\n",
        "fb.write(qxt)\n",
        "fb.close()\n"
      ],
      "execution_count": 1,
      "outputs": []
    },
    {
      "cell_type": "code",
      "metadata": {
        "id": "c2ni1GXRw7Pc"
      },
      "source": [
        "fd=open(\"Records.json\",'r')\n",
        "t=fd.read()\n",
        "fd.close()\n",
        "store= json.loads(t)"
      ],
      "execution_count": 2,
      "outputs": []
    },
    {
      "cell_type": "code",
      "metadata": {
        "colab": {
          "base_uri": "https://localhost:8080/"
        },
        "id": "u4vFJurS1Dq8",
        "outputId": "c96f2a2d-71f0-42e9-9967-bf498aed7ab6"
      },
      "source": [
        "store"
      ],
      "execution_count": 3,
      "outputs": [
        {
          "output_type": "execute_result",
          "data": {
            "text/plain": [
              "{'1001': {'discountinper': 0,\n",
              "  'edate': '08-12-2021',\n",
              "  'mdate': '08-07-2021',\n",
              "  'mrp': 35,\n",
              "  'pname': 'Coke',\n",
              "  'qty': 100},\n",
              " '1002': {'discountinper': 10,\n",
              "  'edate': '08-12-2022',\n",
              "  'mdate': '08-06-2021',\n",
              "  'mrp': 50,\n",
              "  'pname': 'Bathing bar',\n",
              "  'qty': 25},\n",
              " '1003': {'discountinper': 5,\n",
              "  'edate': '10-12-2022',\n",
              "  'mdate': '15-08-2021',\n",
              "  'mrp': 60,\n",
              "  'pname': 'Wheel bar',\n",
              "  'qty': 38},\n",
              " '1004': {'discountinper': 15,\n",
              "  'edate': '18-12-2021',\n",
              "  'mdate': '07-04-2021',\n",
              "  'mrp': 45,\n",
              "  'pname': 'Vim bar',\n",
              "  'qty': 45},\n",
              " '1005': {'discountinper': 0,\n",
              "  'edate': '30-12-2021',\n",
              "  'mdate': '11-07-2021',\n",
              "  'mrp': 25,\n",
              "  'pname': 'Cheese',\n",
              "  'qty': 50}}"
            ]
          },
          "metadata": {},
          "execution_count": 3
        }
      ]
    },
    {
      "cell_type": "code",
      "metadata": {
        "colab": {
          "base_uri": "https://localhost:8080/"
        },
        "id": "Ld1J10es3Wng",
        "outputId": "d0ce3ffb-9901-4ff6-a9f0-51d986f16efe"
      },
      "source": [
        "idy=input(\"Choose your identity:Dealer or Customer: \")"
      ],
      "execution_count": 96,
      "outputs": [
        {
          "name": "stdout",
          "output_type": "stream",
          "text": [
            "Choose your identity:Dealer or Customer: Customer\n"
          ]
        }
      ]
    },
    {
      "cell_type": "code",
      "metadata": {
        "colab": {
          "base_uri": "https://localhost:8080/"
        },
        "id": "H7NPDStuuJBN",
        "outputId": "ae92b4e2-1ef0-48f1-f3e5-c7166d061313"
      },
      "source": [
        "\n",
        "if idy==\"Dealer\":\n",
        "   pnum=input(\"Product id: \")\n",
        "   pname=input(\"Enter product name: \")\n",
        "   mrp=int(input(\"Enter mrp: \"))\n",
        "   mdate=input(\"Enter Manufacturing date: \")\n",
        "   edate=input(\"Enter expiry date: \")\n",
        "   discount=int(input(\"Enter discount in percentage: \"))\n",
        "   qty=int(input(\"Enter Quantity: \"))\n",
        "   if pnum in store:\n",
        "      store[pnum]['qty']+=qty\n",
        "   else:\n",
        "     store[pnum]={\"pname\":pname,\"mrp\":mrp,\"mdate\":mdate,\"edate\":edate,\"discountinper\":discount,\"qty\":qty}\n",
        "   import json\n",
        "   qxt=json.dumps(store)\n",
        "   fb=open(\"Records.json\",'w')\n",
        "   fb.write(qxt)\n",
        "   fb.close()"
      ],
      "execution_count": 92,
      "outputs": [
        {
          "name": "stdout",
          "output_type": "stream",
          "text": [
            "Product id: 1002\n",
            "Enter product name: Bathing bar\n",
            "Enter mrp: 50\n",
            "Enter Manufacturing date: 08-06-2021\n",
            "Enter expiry date: 08-12-2022\n",
            "Enter discount in percentage: 10\n",
            "Enter Quantity: 1\n"
          ]
        }
      ]
    },
    {
      "cell_type": "code",
      "metadata": {
        "id": "O2l7fP1V2XAH"
      },
      "source": [
        "import json\n",
        "qxt=json.dumps(store)\n",
        "fb=open(\"Records.json\",'w')\n",
        "fb.write(qxt)\n",
        "fb.close()\n"
      ],
      "execution_count": 93,
      "outputs": []
    },
    {
      "cell_type": "code",
      "metadata": {
        "colab": {
          "base_uri": "https://localhost:8080/"
        },
        "id": "eGw3r70b3sVN",
        "outputId": "19e0d9fa-b20c-4bd2-d30e-af6125dd3766"
      },
      "source": [
        "store"
      ],
      "execution_count": 94,
      "outputs": [
        {
          "output_type": "execute_result",
          "data": {
            "text/plain": [
              "{'1001': {'discountinper': 0,\n",
              "  'edate': '08-12-2021',\n",
              "  'mdate': '08-07-2021',\n",
              "  'mrp': 35,\n",
              "  'pname': 'Coke',\n",
              "  'qty': 100},\n",
              " '1002': {'discountinper': 10,\n",
              "  'edate': '08-12-2022',\n",
              "  'mdate': '08-06-2021',\n",
              "  'mrp': 50,\n",
              "  'pname': 'Bathing bar',\n",
              "  'qty': 25},\n",
              " '1003': {'discountinper': 5,\n",
              "  'edate': '10-12-2022',\n",
              "  'mdate': '15-08-2021',\n",
              "  'mrp': 60,\n",
              "  'pname': 'Wheel bar',\n",
              "  'qty': 38},\n",
              " '1004': {'discountinper': 15,\n",
              "  'edate': '18-12-2021',\n",
              "  'mdate': '07-04-2021',\n",
              "  'mrp': 45,\n",
              "  'pname': 'Vim bar',\n",
              "  'qty': 45},\n",
              " '1005': {'discountinper': 0,\n",
              "  'edate': '30-12-2021',\n",
              "  'mdate': '11-07-2021',\n",
              "  'mrp': 25,\n",
              "  'pname': 'Cheese',\n",
              "  'qty': 50},\n",
              " '1006': {'discountinper': 5,\n",
              "  'edate': '15-12-2021',\n",
              "  'mdate': '05-08-2021',\n",
              "  'mrp': 50,\n",
              "  'pname': 'Cookie Box',\n",
              "  'qty': 40},\n",
              " '1007': {'discountinper': 10,\n",
              "  'edate': '20-04-2022',\n",
              "  'mdate': '14-06-2021',\n",
              "  'mrp': 60,\n",
              "  'pname': 'Noodles',\n",
              "  'qty': 25},\n",
              " '1008': {'discountinper': 0,\n",
              "  'edate': '20-01-2022',\n",
              "  'mdate': '16-07-2021',\n",
              "  'mrp': 15,\n",
              "  'pname': 'Biscuits',\n",
              "  'qty': 60},\n",
              " '1009': {'discountinper': 15,\n",
              "  'edate': '15-07-2022',\n",
              "  'mdate': '2-08-2021',\n",
              "  'mrp': 52,\n",
              "  'pname': 'Sanitizers',\n",
              "  'qty': 50},\n",
              " '1010': {'discountinper': 10,\n",
              "  'edate': '31-12-2022',\n",
              "  'mdate': '12-07-2021',\n",
              "  'mrp': 35,\n",
              "  'pname': 'Cooking Oil',\n",
              "  'qty': 45},\n",
              " '1011': {'discountinper': 10,\n",
              "  'edate': '12-05-2023',\n",
              "  'mdate': '23-07-2021',\n",
              "  'mrp': 56,\n",
              "  'pname': 'Body Lotion',\n",
              "  'qty': 49},\n",
              " '1012': {'discountinper': 12,\n",
              "  'edate': '09-01-2022',\n",
              "  'mdate': '05-06-2021',\n",
              "  'mrp': 35,\n",
              "  'pname': 'Sanitary Pads',\n",
              "  'qty': 60},\n",
              " '1013': {'discountinper': 0,\n",
              "  'edate': '20-12-2022',\n",
              "  'mdate': '08-06-2021',\n",
              "  'mrp': 15,\n",
              "  'pname': 'Masks',\n",
              "  'qty': 90},\n",
              " '1014': {'discountinper': 6,\n",
              "  'edate': '26-06-2023',\n",
              "  'mdate': '13-07-2021',\n",
              "  'mrp': 45,\n",
              "  'pname': 'Toothpaste',\n",
              "  'qty': 55},\n",
              " '1015': {'discountinper': 0,\n",
              "  'edate': '18-07-2022',\n",
              "  'mdate': '14-04-2021',\n",
              "  'mrp': 20,\n",
              "  'pname': 'Tooth Brush',\n",
              "  'qty': 100},\n",
              " '1016': {'discountinper': 15,\n",
              "  'edate': '17-04-2023',\n",
              "  'mdate': '12-03-2021',\n",
              "  'mrp': 250,\n",
              "  'pname': 'Perfumes',\n",
              "  'qty': 85},\n",
              " '1017': {'discountinper': 12,\n",
              "  'edate': '08-05-2022',\n",
              "  'mdate': '02-06-2021',\n",
              "  'mrp': 85,\n",
              "  'pname': 'Bournvita',\n",
              "  'qty': 50},\n",
              " '1018': {'discountinper': 0,\n",
              "  'edate': '31-12-2021',\n",
              "  'mdate': '06-05-2021',\n",
              "  'mrp': 5,\n",
              "  'pname': 'Coffee Powder',\n",
              "  'qty': 200},\n",
              " '1019': {'discountinper': 0,\n",
              "  'edate': '18-12-2021',\n",
              "  'mdate': '12-06-2021',\n",
              "  'mrp': 35,\n",
              "  'pname': 'Spices Pkt.',\n",
              "  'qty': 65},\n",
              " '1020': {'discountinper': 5,\n",
              "  'edate': '21-07-2022',\n",
              "  'mdate': '05-06-2021',\n",
              "  'mrp': 65,\n",
              "  'pname': 'Chilli Powder',\n",
              "  'qty': 35},\n",
              " '1021': {'discountinper': 5,\n",
              "  'edate': '12-12-2022',\n",
              "  'mdate': '02-06-2021',\n",
              "  'mrp': 65,\n",
              "  'pname': 'Corriander Powder',\n",
              "  'qty': 40},\n",
              " '1022': {'discountinper': 5,\n",
              "  'edate': '25-12-2022',\n",
              "  'mdate': '02-07-2021',\n",
              "  'mrp': 75,\n",
              "  'pname': 'Turmeric Powder',\n",
              "  'qty': 60},\n",
              " '1023': {'discountinper': 0,\n",
              "  'edate': '31-12-2021',\n",
              "  'mdate': '12-06-2021',\n",
              "  'mrp': 15,\n",
              "  'pname': 'Tea Bags',\n",
              "  'qty': 80},\n",
              " '1024': {'discountinper': 2,\n",
              "  'edate': '14-06-2022',\n",
              "  'mdate': '08-05-2021',\n",
              "  'mrp': 45,\n",
              "  'pname': 'Salt Pkt.',\n",
              "  'qty': 55},\n",
              " '1025': {'discountinper': 6,\n",
              "  'edate': '24-09-2022',\n",
              "  'mdate': '17-05-2021',\n",
              "  'mrp': 60,\n",
              "  'pname': 'Sugar Pkt.',\n",
              "  'qty': 45},\n",
              " '1026': {'discountinper': 15,\n",
              "  'edate': '02-05-2022',\n",
              "  'mdate': '02-05-2021',\n",
              "  'mrp': 450,\n",
              "  'pname': 'Rice Pkt.',\n",
              "  'qty': 55},\n",
              " '1027': {'discountinper': 15,\n",
              "  'edate': '06-06-2022',\n",
              "  'mdate': '06-06-2021',\n",
              "  'mrp': 220,\n",
              "  'pname': 'Atta Pkt.',\n",
              "  'qty': 50},\n",
              " '1028': {'discountinper': 5,\n",
              "  'edate': '07-12-2021',\n",
              "  'mdate': '08-07-2021',\n",
              "  'mrp': 55,\n",
              "  'pname': 'Dal',\n",
              "  'qty': 45},\n",
              " '1029': {'discountinper': 5,\n",
              "  'edate': '17-08-2023',\n",
              "  'mdate': '17-08-2021',\n",
              "  'mrp': 55,\n",
              "  'pname': 'Besan Pkt.',\n",
              "  'qty': 65},\n",
              " '1030': {'discountinper': 5,\n",
              "  'edate': '14-05-2022',\n",
              "  'mdate': '15-07-2021',\n",
              "  'mrp': 35,\n",
              "  'pname': 'Chana Pkt.',\n",
              "  'qty': 56}}"
            ]
          },
          "metadata": {},
          "execution_count": 94
        }
      ]
    },
    {
      "cell_type": "code",
      "metadata": {
        "colab": {
          "base_uri": "https://localhost:8080/"
        },
        "id": "GytCp87DueOz",
        "outputId": "e6a0c8b0-dff1-4a53-8a10-1eac5acda9f1"
      },
      "source": [
        "sum=0\n",
        "ans=0\n",
        "original=0\n",
        "if idy==\"Customer\":    \n",
        "  print(\"Welcome to our Store!!!\\n\")\n",
        "  print(\"***********************\\n\")\n",
        "  print(\"\\nLook on to the available products\\n\")\n",
        "  print(store)\n",
        "  Customer_name=input(\"Enter your Name: \")\n",
        "  Mob_No=int(input(\"Enter your Mobile no: \"))\n",
        "  n=int(input(\"Enter number of products u wanna buy\"))\n",
        "  for i in range(n):  \n",
        "     pnum=input(\"\\nEnter product number you want to buy\\n\")\n",
        "     print(store[pnum])\n",
        "     quant=int(input(\"Enter Quantity\"))\n",
        "     if quant>store[pnum]['qty']:\n",
        "       print(\"Re-Enter the quantity as this much amount is not in stock. Sorry for inconvenience!!\")\n",
        "       print(\"We have only \",store[pnum]['qty'])\n",
        "     else:  \n",
        "        ans=(store[pnum]['mrp']-((store[pnum]['discountinper']*store[pnum]['mrp'])/100))*quant\n",
        "        sum+=ans\n",
        "        original+=(store[pnum]['mrp'])*quant\n",
        "        store[pnum]['qty']-=quant\n",
        "        \n",
        "  print(\"Total Amount you have to pay is: \")\n",
        "  print(\"-----------------------------------\")    \n",
        "  print(sum)\n",
        "  print(\"\\nYou have saved\\n\")\n",
        "  print(original-sum)\n",
        "  print(\"\\nin this visit\\n\")\n",
        "  print(\"\\nThank You for shopping. Visit Again!!\")\n",
        "  import json\n",
        "  j=json.dumps(store)\n",
        "  fe=open(\"Records.json\",'w')\n",
        "  fe.write(j)\n",
        "  fe.close()"
      ],
      "execution_count": 127,
      "outputs": [
        {
          "output_type": "stream",
          "name": "stdout",
          "text": [
            "Welcome to our Store!!!\n",
            "\n",
            "***********************\n",
            "\n",
            "\n",
            "Look on to the available products\n",
            "\n",
            "{'1001': {'pname': 'Coke', 'mrp': 35, 'mdate': '08-07-2021', 'edate': '08-12-2021', 'discountinper': 0, 'qty': 100}, '1002': {'pname': 'Bathing bar', 'mrp': 50, 'mdate': '08-06-2021', 'edate': '08-12-2022', 'discountinper': 10, 'qty': 23}, '1003': {'pname': 'Wheel bar', 'mrp': 60, 'mdate': '15-08-2021', 'edate': '10-12-2022', 'discountinper': 5, 'qty': 37}, '1004': {'pname': 'Vim bar', 'mrp': 45, 'mdate': '07-04-2021', 'edate': '18-12-2021', 'discountinper': 15, 'qty': 43}, '1005': {'pname': 'Cheese', 'mrp': 25, 'mdate': '11-07-2021', 'edate': '30-12-2021', 'discountinper': 0, 'qty': 47}, '1006': {'pname': 'Cookie Box', 'mrp': 50, 'mdate': '05-08-2021', 'edate': '15-12-2021', 'discountinper': 5, 'qty': 40}, '1007': {'pname': 'Noodles', 'mrp': 60, 'mdate': '14-06-2021', 'edate': '20-04-2022', 'discountinper': 10, 'qty': 25}, '1008': {'pname': 'Biscuits', 'mrp': 15, 'mdate': '16-07-2021', 'edate': '20-01-2022', 'discountinper': 0, 'qty': 58}, '1009': {'pname': 'Sanitizers', 'mrp': 52, 'mdate': '2-08-2021', 'edate': '15-07-2022', 'discountinper': 15, 'qty': 48}, '1010': {'pname': 'Cooking Oil', 'mrp': 35, 'mdate': '12-07-2021', 'edate': '31-12-2022', 'discountinper': 10, 'qty': 43}, '1011': {'pname': 'Body Lotion', 'mrp': 56, 'mdate': '23-07-2021', 'edate': '12-05-2023', 'discountinper': 10, 'qty': 49}, '1012': {'pname': 'Sanitary Pads', 'mrp': 35, 'mdate': '05-06-2021', 'edate': '09-01-2022', 'discountinper': 12, 'qty': 60}, '1013': {'pname': 'Masks', 'mrp': 15, 'mdate': '08-06-2021', 'edate': '20-12-2022', 'discountinper': 0, 'qty': 90}, '1014': {'pname': 'Toothpaste', 'mrp': 45, 'mdate': '13-07-2021', 'edate': '26-06-2023', 'discountinper': 6, 'qty': 54}, '1015': {'pname': 'Tooth Brush', 'mrp': 20, 'mdate': '14-04-2021', 'edate': '18-07-2022', 'discountinper': 0, 'qty': 100}, '1016': {'pname': 'Perfumes', 'mrp': 250, 'mdate': '12-03-2021', 'edate': '17-04-2023', 'discountinper': 15, 'qty': 82}, '1017': {'pname': 'Bournvita', 'mrp': 85, 'mdate': '02-06-2021', 'edate': '08-05-2022', 'discountinper': 12, 'qty': 49}, '1018': {'pname': 'Coffee Powder', 'mrp': 5, 'mdate': '06-05-2021', 'edate': '31-12-2021', 'discountinper': 0, 'qty': 200}, '1019': {'pname': 'Spices Pkt.', 'mrp': 35, 'mdate': '12-06-2021', 'edate': '18-12-2021', 'discountinper': 0, 'qty': 65}, '1020': {'pname': 'Chilli Powder', 'mrp': 65, 'mdate': '05-06-2021', 'edate': '21-07-2022', 'discountinper': 5, 'qty': 34}, '1021': {'pname': 'Corriander Powder', 'mrp': 65, 'mdate': '02-06-2021', 'edate': '12-12-2022', 'discountinper': 5, 'qty': 39}, '1022': {'pname': 'Turmeric Powder', 'mrp': 75, 'mdate': '02-07-2021', 'edate': '25-12-2022', 'discountinper': 5, 'qty': 59}, '1023': {'pname': 'Tea Bags', 'mrp': 15, 'mdate': '12-06-2021', 'edate': '31-12-2021', 'discountinper': 0, 'qty': 80}, '1024': {'pname': 'Salt Pkt.', 'mrp': 45, 'mdate': '08-05-2021', 'edate': '14-06-2022', 'discountinper': 2, 'qty': 52}, '1025': {'pname': 'Sugar Pkt.', 'mrp': 60, 'mdate': '17-05-2021', 'edate': '24-09-2022', 'discountinper': 6, 'qty': 42}, '1026': {'pname': 'Rice Pkt.', 'mrp': 450, 'mdate': '02-05-2021', 'edate': '02-05-2022', 'discountinper': 15, 'qty': 53}, '1027': {'pname': 'Atta Pkt.', 'mrp': 220, 'mdate': '06-06-2021', 'edate': '06-06-2022', 'discountinper': 15, 'qty': 48}, '1028': {'pname': 'Dal', 'mrp': 55, 'mdate': '08-07-2021', 'edate': '07-12-2021', 'discountinper': 5, 'qty': 41}, '1029': {'pname': 'Besan Pkt.', 'mrp': 55, 'mdate': '17-08-2021', 'edate': '17-08-2023', 'discountinper': 5, 'qty': 62}, '1030': {'pname': 'Chana Pkt.', 'mrp': 35, 'mdate': '15-07-2021', 'edate': '14-05-2022', 'discountinper': 5, 'qty': 54}}\n",
            "Enter your Name: Rehan\n",
            "Enter your Mobile no: 846392145\n",
            "Enter number of products u wanna buy2\n",
            "\n",
            "Enter product number you want to buy\n",
            "1015\n",
            "{'pname': 'Tooth Brush', 'mrp': 20, 'mdate': '14-04-2021', 'edate': '18-07-2022', 'discountinper': 0, 'qty': 100}\n",
            "Enter Quantity3\n",
            "\n",
            "Enter product number you want to buy\n",
            "1014\n",
            "{'pname': 'Toothpaste', 'mrp': 45, 'mdate': '13-07-2021', 'edate': '26-06-2023', 'discountinper': 6, 'qty': 54}\n",
            "Enter Quantity6\n",
            "Total Amount you have to pay is: \n",
            "-----------------------------------\n",
            "313.79999999999995\n",
            "\n",
            "You have saved\n",
            "\n",
            "16.200000000000045\n",
            "\n",
            "in this visit\n",
            "\n",
            "\n",
            "Thank You for shopping. Visit Again!!\n"
          ]
        }
      ]
    },
    {
      "cell_type": "code",
      "metadata": {
        "id": "oo8VdMW_xFxi"
      },
      "source": [
        "tym=time.ctime()\n",
        "tpl={\"Name\":Customer_name,\"Mobile No\":Mob_No,\"Time and Date\":tym,\"Total Amt\":sum}\n",
        "cdetails=json.dumps(tpl)\n",
        "fa=open(\"Sales.json\",'a')\n",
        "fa.write(cdetails)\n",
        "fa.close()"
      ],
      "execution_count": 128,
      "outputs": []
    }
  ]
}